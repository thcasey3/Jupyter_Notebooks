{
 "cells": [
  {
   "cell_type": "markdown",
   "metadata": {},
   "source": [
    "# Upgrading and expanding EPR and ODNP Operations"
   ]
  },
  {
   "cell_type": "markdown",
   "metadata": {},
   "source": [
    "## Sequence Project Activities"
   ]
  },
  {
   "cell_type": "markdown",
   "metadata": {},
   "source": [
    "#### Manager: Thomas Casey"
   ]
  },
  {
   "cell_type": "markdown",
   "metadata": {},
   "source": [
    "| **WBS ID** | **Activity/Task Name** |\n",
    "| :- | :- |\n",
    "| 1.1 | AFC Adjustment |\n",
    "| 1.2 | Resonator refurbish | \n",
    "| 1.3 | Standard characterization |\n",
    "| 2.1 | Diagnose Qband TWTA |\n",
    "| 2.2 | Qband TWTA repair quote |\n",
    "| 2.3 | TWTA repair proposal|\n",
    "| 2.4 | Ship TWTA |\n",
    "| 2.5 | Replace cryostat window Indium seal | \n",
    "| 2.6 | Repair Pfeiffer pump |\n",
    "| 3.1 | Inquire about magnet/power supply ad |\n",
    "| 3.2 | Magnet/power supply shipping quote |\n",
    "| 3.3 | Magnet/power supply budget confirmation |\n",
    "| 3.4 | Magnet/power supply shipping arrangements |\n",
    "| 4.1 | Clean lab |\n",
    "| 4.2 | Purchase water hose and fittings |\n",
    "| 4.3 | Recirculator quote|\n",
    "| 4.4 | Decrease building water to 65$^{o}$F |\n",
    "| 4.5 | Rearrange recirculators |\n",
    "| 4.6 | New power outlets |\n",
    "| 5.1 | Disassemble Qband|\n",
    "| 5.2 | Disassemble Xband pulsed |\n",
    "| 5.3 | Resassemble Xband pulsed on Qband magnet |\n",
    "| 6.1 | Cryogen-free mount drawings for 10\" magnet |\n",
    "| 6.2 | Cryogen-free mount job submission |\n",
    "| 6.3 | Cryogen-free mount assembly, cryostat install |\n",
    "| 7.1 | Interpret Workup software |\n",
    "| 7.2 | Plan DNPLab collaboration meetings schedule |\n",
    "| 7.3 | Define feature needs for DNPLab |\n",
    "| 7.4 | Write DNPLab functions |\n",
    "| 7.5 | Test DNPLab on previously published data |\n",
    "| 8.1 | Fabricate new CNSI probe and tuning box |\n",
    "| 8.2 | Test new CNSI probe and tuning box |\n",
    "| 8.3 | Document new CNSI probe and tuning box |"
   ]
  },
  {
   "cell_type": "code",
   "execution_count": null,
   "metadata": {},
   "outputs": [],
   "source": []
  }
 ],
 "metadata": {
  "kernelspec": {
   "display_name": "Python 3",
   "language": "python",
   "name": "python3"
  },
  "language_info": {
   "codemirror_mode": {
    "name": "ipython",
    "version": 3
   },
   "file_extension": ".py",
   "mimetype": "text/x-python",
   "name": "python",
   "nbconvert_exporter": "python",
   "pygments_lexer": "ipython3",
   "version": "3.8.3"
  }
 },
 "nbformat": 4,
 "nbformat_minor": 4
}
