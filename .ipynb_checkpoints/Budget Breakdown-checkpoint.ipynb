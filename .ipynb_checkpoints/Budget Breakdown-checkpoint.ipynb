{
 "cells": [
  {
   "cell_type": "markdown",
   "metadata": {},
   "source": [
    "# Upgrading and expanding EPR and ODNP Operations"
   ]
  },
  {
   "cell_type": "markdown",
   "metadata": {},
   "source": [
    "## Budget Breakdown"
   ]
  },
  {
   "cell_type": "markdown",
   "metadata": {},
   "source": [
    "#### Manager: Thomas Casey"
   ]
  },
  {
   "cell_type": "markdown",
   "metadata": {},
   "source": [
    "**Budget Allocations**\n",
    "\n",
    "The total budget is partially fixed, and partially dependent on proposal success. The bold categories indicate the total allowed, estimates for each task are also provided. Where the budget is \"as needed\", the task is a part of standard employee salary and there is high confidence that costs are negligible  or none. \n",
    "\n",
    "| **WBS ID** | **Activity/Task Name** | **Labor** | **Materials** | **Overhead** | \n",
    "| :- | :- | :- | :- | :- |\n",
    "| 1   | **EMX Repair** | as needed | as needed | as needed |\n",
    "| 1.1 | AFC Adjustment | project manager salary | N/A | N/A |\n",
    "| 1.2 | Resonator refurbish | project manager salary | \\\\$100 | N/A |\n",
    "| 1.3 | Standard characterization | project manager salary | N/A | N/A |\n",
    "| 2   | **TWTA Repair, and Qband general** | \\\\$10,000 | \\\\$80,000 | \\\\$10,000 |\n",
    "| 2.1 | Diagnose Qband TWTA | project manager salary | N/A | N/A |\n",
    "| 2.2 | Qband TWTA repair quote | project manager salary | N/A | N/A |\n",
    "| 2.3 | TWTA repair proposal | project manager salary | N/A | N/A |\n",
    "| 2.4 | Ship TWTA | project manager salary | \\\\$600 | \\\\$300|\n",
    "| 2.5 | Replace cryostat window Indium seal | project manager salary | \\\\$200 | N/A |\n",
    "| 2.6 | Repair Pfeiffer pump | project manager salary | \\\\$100 | N/A |\n",
    "| 3   | **Magent and Power supply** | as needed | \\\\$20,000 | as needed |\n",
    "| 3.1 | Inquire about magnet/power supply ad | project manager salary | N/A | N/A |\n",
    "| 3.2 | Magnet/power supply shipping quote | project manager salary | N/A | N/A |\n",
    "| 3.3 | Magnet/power supply budget confirmation | project manager salary | N/A | N/A |\n",
    "| 3.4 | Magnet/power supply shipping arrangements | project manager salary | N/A | \\\\$5,000 |\n",
    "| 4   | **Lab rennovations** | \\\\$1,500 | \\\\$500 | as needed |\n",
    "| 4.1 | Clean lab | project manager salary | N/A | N/A |\n",
    "| 4.2 | Purchase water hose and fittings | project manager salary | \\\\$300 | N/A |\n",
    "| 4.3 | Recirculator quote| project manager salary | N/A | N/A |\n",
    "| 4.4 | Decrease building water to 65$^{o}$F | project manager salary | N/A | N/A |\n",
    "| 4.5 | Rearrange recirculators | project manager salary | N/A | N/A |\n",
    "| 4.6 | New power outlets | \\\\$1,000 | \\\\$400| N/A |\n",
    "| 5   | **Move Xband Pulsed** | as needed | as needed | as needed |\n",
    "| 5.1 | Disassemble Qband| project manager salary | N/A | N/A |\n",
    "| 5.2 | Disassemble Xband pulsed | project manager salary | N/A | N/A |\n",
    "| 5.3 | Resassemble Xband pulsed on Qband magnet | project manager salary | N/A | N/A |\n",
    "| 6   | **Cryogen-free mounts** | \\\\$1,000 | \\\\$1,000 | as needed |\n",
    "| 6.1 | Cryogen-free mount drawings for 10\" magnet | project manager salary | N/A | N/A |\n",
    "| 6.2 | Cryogen-free mount job submission | \\\\$500 | N/A | N/A |\n",
    "| 6.3 | Cryogen-free mount assembly, cryostat install | project manager salary | \\\\~$100 incidentals  | N/A |\n",
    "| 7   | **Software development** | as needed | as needed | as needed |\n",
    "| 7.1 | Interpret Workup software | project manager salary | N/A | N/A |\n",
    "| 7.2 | Plan DNPLab collaboration meetings schedule | project manager salary | N/A | N/A |\n",
    "| 7.3 | Define feature needs for DNPLab | project manager salary | N/A | N/A |\n",
    "| 7.4 | Write DNPLab functions | project manager salary | N/A | N/A |\n",
    "| 7.5 | Test DNPLab | project manager salary | N/A | N/A |\n",
    "| 8   | **Probe Upgrade** | as needed | \\\\$2,000 | as needed |\n",
    "| 8.1 | Fabricate new CNSI probe and tuning box | project manager salary | \\\\$500 | N/A |\n",
    "| 8.2 | Test new CNSI probe and tuning box | project manager salary | N/A | \\\\$500 facility time |\n",
    "| 8.3 | Document new CNSI probe and tuning box | project manager salary | N/A | N/A |"
   ]
  },
  {
   "cell_type": "code",
   "execution_count": null,
   "metadata": {},
   "outputs": [],
   "source": []
  }
 ],
 "metadata": {
  "kernelspec": {
   "display_name": "Python 3",
   "language": "python",
   "name": "python3"
  },
  "language_info": {
   "codemirror_mode": {
    "name": "ipython",
    "version": 3
   },
   "file_extension": ".py",
   "mimetype": "text/x-python",
   "name": "python",
   "nbconvert_exporter": "python",
   "pygments_lexer": "ipython3",
   "version": "3.8.3"
  }
 },
 "nbformat": 4,
 "nbformat_minor": 4
}
