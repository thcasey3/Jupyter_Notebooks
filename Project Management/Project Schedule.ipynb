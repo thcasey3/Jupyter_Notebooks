{
 "cells": [
  {
   "cell_type": "markdown",
   "metadata": {},
   "source": [
    "# Upgrading and expanding EPR and ODNP Operations"
   ]
  },
  {
   "cell_type": "markdown",
   "metadata": {},
   "source": [
    "## Project Schedule"
   ]
  },
  {
   "cell_type": "markdown",
   "metadata": {},
   "source": [
    "#### Manager: Thomas Casey"
   ]
  },
  {
   "cell_type": "markdown",
   "metadata": {},
   "source": [
    "| **WBS ID** | **Activity/Task Name** | **Duration** | **Start** | **Finish** | **Resources** |\n",
    "| :- | :- | :- | :- | :- | :- |\n",
    "| 1.1 | AFC Adjustment | 1 day | 09/2019 | 09/2019 | N/A |\n",
    "| 1.2 | Resonator refurbish | 2 days | 09/2019 | 09/2019 | solvents, water |\n",
    "| 1.3 | Standard characterization | 1 day | 09/2019 | 09/2019 | BDPA sample |\n",
    "| 2.1 | Diagnose Qband TWTA | 2 days | 09/2019 | 09/2019 | standard DEER sample, He tank |\n",
    "| 2.2 | Qband TWTA repair quote | 1 day | 09/2019 | 09/2019 | N/A |\n",
    "| 2.3 | TWTA repair proposal | 2 weeks | 09/2019 | 10/2019 | Microsoft Word and Excel, Illustrator |\n",
    "| 2.4 | Ship TWTA | 2 days | TBD by 2.3 | TBD | Crate, pallet jack, screw gun |\n",
    "| 2.5 | Replace cryostat window Indium seal | 1 day | 10/2019 | 10/2019 | Indium seal, allen wrenches |\n",
    "| 2.6 | Repair Pfeiffer pump | 1 week | 10/2019 | 10/2019 | screw drivers, wrenches, soldering pen, multimeter |\n",
    "| 3.1 | Inquire about magnet/power supply ad | 1 day | ASAP | ASAP | N/A |\n",
    "| 3.2 | Magnet/power supply shipping quote | 1 day | ASAP | ASAP | N/A |\n",
    "| 3.3 | Magnet/power supply budget confirmation | 1 day | ASAP | ASAP | Budget enterprise tools |\n",
    "| 3.4 | Magnet/power supply shipping arrangements | 3 days | TBD by 3.3 | TBD | N/A |\n",
    "| 4.1 | Clean lab | 1 month | 11/2019 | 12/2019 | standard tools, brooms, mop/bucket, pallet jack, cart |\n",
    "| 4.2 | Purchase water hose and fittings | 1 day | 11/2019 | 11/2019 | Budget enterprise tools |\n",
    "| 4.3 | Recirculator quote| 1 day | 11/2019 | 11/2019 | N/A |\n",
    "| 4.4 | Decrease building water to 65$^{o}$F | 1 week | 12/2019 | 12/2019 | N/A |\n",
    "| 4.5 | Rearrange recirculators | 2 weeks | 1/2020 | 1/2020 | standard tools, pallet jack |\n",
    "| 4.6 | New power outlets | 2 weeks | 1/2020 | 2/2020 | standard tools, multimeter |\n",
    "| 5.1 | Disassemble Qband| 1 week | 2/2020 | 2/2020 | standard tools |\n",
    "| 5.2 | Disassemble Xband pulsed | 1 week | 2/2020 | 2/2020 | standard tools |\n",
    "| 5.3 | Resassemble Xband pulsed on Qband magnet | 1 week | 2/2020 | 3/2020 | standard tools |\n",
    "| 6.1 | Cryogen-free mount drawings for 10\" magnet | 1 week | 3/2020 | 3/2020 | AutoDesk Inventor |\n",
    "| 6.2 | Cryogen-free mount job submission | 1 day | 3/2020 | 3/2020 | N/A |\n",
    "| 6.3 | Cryogen-free mount assembly, cryostat install | 1 week | 5/2020 | 5/2020 | standard tools |\n",
    "| 7.1 | Interpret Workup software | 1 month | 4/2020 | 5/2020 | python IDE |\n",
    "| 7.2 | Plan DNPLab collaboration meetings schedule | 2 days | 5/2020 | 5/2020 | Slack, Zoom |\n",
    "| 7.3 | Define feature needs for DNPLab | 1 week | 5/2020 | 5/2020 | Word, Excel, Powerpoint |\n",
    "| 7.4 | Write DNPLab functions | 6 months | 5/2020 | 11/2020 | python IDE, GitHub |\n",
    "| 7.5 | Test DNPLab | 1 week | 11/2020 | 12/2020 | python IDE, GitHub, previous data, previous publication |\n",
    "| 8.1 | Fabricate new CNSI probe and tuning box | 2 weeks | 1/2021 | 1/2021 | soldering pen, EagleCAD, standard tools |\n",
    "| 8.2 | Test new CNSI probe and tuning box | 2 weeks | 1/2021 | 2/2021 | standard sample, DNPLab software |\n",
    "| 8.3 | Document new CNSI probe and tuning box | 2 weeks | 2/2021 | 3/2021 | Word, Powerpoint, Illustrator |"
   ]
  },
  {
   "cell_type": "code",
   "execution_count": null,
   "metadata": {},
   "outputs": [],
   "source": []
  }
 ],
 "metadata": {
  "kernelspec": {
   "display_name": "Python 3",
   "language": "python",
   "name": "python3"
  },
  "language_info": {
   "codemirror_mode": {
    "name": "ipython",
    "version": 3
   },
   "file_extension": ".py",
   "mimetype": "text/x-python",
   "name": "python",
   "nbconvert_exporter": "python",
   "pygments_lexer": "ipython3",
   "version": "3.8.3"
  }
 },
 "nbformat": 4,
 "nbformat_minor": 4
}
