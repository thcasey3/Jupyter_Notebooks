{
 "cells": [
  {
   "cell_type": "markdown",
   "metadata": {},
   "source": [
    "# Determining the position and orientation of a small molecule in an enzyme"
   ]
  },
  {
   "cell_type": "markdown",
   "metadata": {},
   "source": [
    "#### Author: **Thomas Casey**\n",
    "##### Location: Michigan State University\n",
    "Work published in [J. Phys. Chem. B](https://doi.org/10.1021/jp404743d) and [Applied Mag. Res.](https://doi.org/10.1007/s00723-020-01288-w)"
   ]
  },
  {
   "cell_type": "markdown",
   "metadata": {},
   "source": [
    "## Table of Contents\n",
    "1. [Business Understanding](#Business-Understanding)\n",
    "2. [Data Understanding](#Data-Understanding)\n",
    "3. [Data Preparation](#Data-Preparations)\n",
    "4. [Modeling](#Method-Description)\n",
    "5. [Evaluation](#Evaluation)\n",
    "6. [Deployment 1](#Deployment-1)\n",
    "7. [Deployment 2](#Deployment-2)"
   ]
  },
  {
   "cell_type": "markdown",
   "metadata": {},
   "source": [
    "<a id=\"Business Understanding\"> </a>\n",
    "## Business Understanding"
   ]
  },
  {
   "cell_type": "markdown",
   "metadata": {},
   "source": [
    "What are the precise spacial positions of small molecules taurine and water in relation to the center of the enzyme TauD just prior to the enzyme catalyzing the breakdown of taurine?\n"
   ]
  },
  {
   "cell_type": "markdown",
   "metadata": {},
   "source": [
    "<a id=\"Data Understanding\"> </a>\n",
    "## Data Understanding"
   ]
  },
  {
   "cell_type": "markdown",
   "metadata": {},
   "source": [
    "The available data are derived from a spectroscopy technique known as [Electron Paramagnetic Resonance (EPR)](https://en.wikipedia.org/wiki/Electron_paramagnetic_resonance), in particular [Electron Spin Echo Envelope Modulation (ESEEM) and HYperfine Sublevel CORElation (HYSCORE)](https://doi.org/10.1002/0470862106.ia337). In brief, ESEEM yields one-dimension arrays of signal amplitudes collected as a function of time (*changing delay between two microwave pulses*), HYSCORE yields two-dimensional data where each dimension is also time (*each dimension is one of the two changing delays between a set of three microwave pulses*). The data are in binary files, proprietary Bruker format. Data are sectioned in pairs of files, one contains the raw data and the other contains descriptive text. "
   ]
  },
  {
   "cell_type": "markdown",
   "metadata": {},
   "source": [
    "<a id=\"Data Preparation\"> </a>\n",
    "## Data Preparation"
   ]
  },
  {
   "cell_type": "markdown",
   "metadata": {},
   "source": [
    "Data are collected using commericially available [spectrometers](https://www.bruker.com/en/products-and-solutions/mr/epr-instruments.html) controlled using proprietary software. \n",
    "<br>\n",
    "<br>\n",
    "The magnetic resonance community typically uses [MATLAB](http://www.mathworks.com/matlab) or python to handle EPR data. The tool used for this study was the most widely used tools for EPR data import and modeling, [EasySpin](http://www.easyspin.org) operating in MATLAB. For the purpose of this notebook I will translate as much as possible to python.\n",
    "<br>\n",
    "<br>\n",
    "EPR data are modeled using a well established theoretical framework, extraction of information from the data is achieved by using optimization algorithms to model data using quantum mechanical expressions. For this study I used built in [EasySpin (*docs*)](https://easyspin.org/easyspin/documentation/) functions to supply the quantum mechanical expression.\n",
    "\n",
    "For this notebook I will translate the MATLAB code to python. The following code will load and prepare the data for fitting using a python package for which I am a principle contributor, DNPLab. This package handles proprietary EPR spectrometer data formats."
   ]
  },
  {
   "cell_type": "markdown",
   "metadata": {},
   "source": [
    "**Import packages**"
   ]
  },
  {
   "cell_type": "code",
   "execution_count": 2,
   "metadata": {},
   "outputs": [],
   "source": [
    "import sys\n",
    "import os\n",
    "import re\n",
    "\n",
    "# import dnplab\n",
    "import numpy as np\n",
    "import scipy as sp\n",
    "import pandas as pd\n",
    "import matplotlib.pyplot as plt\n",
    "import seaborn as sns\n",
    "import sklearn as sk"
   ]
  },
  {
   "cell_type": "markdown",
   "metadata": {},
   "source": [
    "**Define a data processing function**"
   ]
  },
  {
   "cell_type": "code",
   "execution_count": 2,
   "metadata": {},
   "outputs": [],
   "source": [
    "def proc_ESE(ws): # function for tranforming the spectrum from time domain to frequency domain\n",
    "\n",
    "    dnplab.dnpNMR.remove_offset(ws, dim=\"ns\")\n",
    "    dnplab.dnpTools.baseline(ws, dim=\"ns\", type=\"polynomial\", order=6)\n",
    "    dnplab.dnpNMR.window(ws, type=\"hamming\", dim=\"ns\")\n",
    "    dnplab.dnpNMR.fourier_transform(ws, dim=\"ns\")\n",
    "    ws[\"proc\"].values = abs(ws[\"proc\"].real.values[int(ws[\"proc\"].shape[0]/2):])\n",
    "\n",
    "    return ws"
   ]
  },
  {
   "cell_type": "markdown",
   "metadata": {},
   "source": [
    "**Retrieve and sort the data**"
   ]
  },
  {
   "cell_type": "code",
   "execution_count": null,
   "metadata": {},
   "outputs": [],
   "source": [
    "directory = \"./resources/taud/\"\n",
    "\n",
    "files = os.listdir(directory)\n",
    "\n",
    "date = []\n",
    "samp_id = []\n",
    "samp_num = []\n",
    "experiment = []\n",
    "mag_field = []\n",
    "file_type = []\n",
    "maximum_loc = []\n",
    "loc_corrupt = []\n",
    "for indx, paths in enumerate(files):\n",
    "    if \".DS_Store\" not in paths:\n",
    "        txt = re.split('(\\d+)', paths)\n",
    "\n",
    "    if txt[6] == \".DTA\" and \"ESE\" in paths:\n",
    "        date.append(txt[1])\n",
    "        samp_id.append(txt[2])\n",
    "        samp_num.append(txt[3])\n",
    "        experiment.append(txt[4])\n",
    "        mag_field.append(txt[5])\n",
    "        data = dnplab.dnpImport.load(os.path.join(direct, paths))\n",
    "        ws = dnplab.create_workspace(\"proc\", data)\n",
    "        ws[\"proc\"].attrs[\"nmr_frequency\"] = ws[\"proc\"].attrs[\"frequency\"]\n",
    "        \n",
    "        # Processing function #\n",
    "        ws = proc_ESE(ws)\n",
    "        #                     #\n",
    "        \n",
    "        maximum_loc.append(ws[\"proc\"].coords[\"ns\"][np.argmax(ws[\"proc\"].real.values)])\n",
    "\n",
    "table_dict = {\"date\": date,\n",
    "              \"samp_id\": samp_id,\n",
    "              \"samp_num\": samp_num,\n",
    "              \"experiment\": experiment,\n",
    "              \"mag_field\": mag_field,\n",
    "              \"data_maximum\": maximum_loc\n",
    "              }\n",
    "\n",
    "df = pd.DataFrame(table_dict, columns=table_dict.keys())"
   ]
  },
  {
   "cell_type": "markdown",
   "metadata": {},
   "source": [
    "**Scatter plot for quick visualization of the data**"
   ]
  },
  {
   "cell_type": "code",
   "execution_count": null,
   "metadata": {},
   "outputs": [],
   "source": [
    "sns.set_theme(style=\"darkgrid\")\n",
    "sns.relplot(y='loc_data_maximum', x='mag_field', hue=\"samp_num\",  data=table_dict)"
   ]
  },
  {
   "cell_type": "markdown",
   "metadata": {},
   "source": [
    "<a id=\"Modeling\"> </a>\n",
    "## Modeling"
   ]
  },
  {
   "cell_type": "markdown",
   "metadata": {},
   "source": [
    "**One dimensional model**\n",
    "\n",
    "The location of the data maximum is directly related to the dominant frequency in the un-processed, time domain, data. The possible frequencies are determined by the nuclei present in the sample. Here we have protons ($^{1}H$) and/or deuterium ($^{2}H$). The nucleus can be identified based on the dominant frequency. However, magnetic dipolar coupling introduces error by shifting the dominant frequency and/or splitting into multiple frequencies. Nevertheless, the frequency region of the maximum should correlate with the magnetic field ($B_{0}$) according to the relationship,\n",
    "\n",
    "$freq = \\gamma B_{0} $\n",
    "\n",
    "where $ \\gamma $ is the gyromagnetic ratio of the nucleus. A training set can be constructed where the $freq$ is predicted for both nuclei with the above equation using magnetic field values in 'mag_field'. Next, a test set can be constructed that is composed of $freq$ values slightly shifted from the predicted values of the training set. Once the model accurately picks the correct nucleus from the correlation of magnetic field and frequency in the test set, it can be used to guess the nucleus of the samples. \n",
    "\n",
    "**Create training set**"
   ]
  },
  {
   "cell_type": "code",
   "execution_count": 1,
   "metadata": {},
   "outputs": [
    {
     "ename": "SyntaxError",
     "evalue": "invalid syntax (<ipython-input-1-10f760994ba5>, line 1)",
     "output_type": "error",
     "traceback": [
      "\u001b[0;36m  File \u001b[0;32m\"<ipython-input-1-10f760994ba5>\"\u001b[0;36m, line \u001b[0;32m1\u001b[0m\n\u001b[0;31m    freq_1H = float(table_dict[\"mag_field\"]) *\u001b[0m\n\u001b[0m                                               ^\u001b[0m\n\u001b[0;31mSyntaxError\u001b[0m\u001b[0;31m:\u001b[0m invalid syntax\n"
     ]
    }
   ],
   "source": [
    "freq_1H = np.array(table_dict[\"mag_field\"]) * 4.2576  # MHz\n",
    "freq_2H = np.array(table_dict[\"mag_field\"]) * .6536   # MHz"
   ]
  },
  {
   "cell_type": "markdown",
   "metadata": {},
   "source": [
    "**Two dimensional model**"
   ]
  },
  {
   "cell_type": "markdown",
   "metadata": {},
   "source": [
    "![MATLAB example of pre-process](http://)"
   ]
  },
  {
   "cell_type": "markdown",
   "metadata": {},
   "source": [
    "<a id=\"Evaluation\"> </a>\n",
    "## Evaluation"
   ]
  },
  {
   "cell_type": "markdown",
   "metadata": {},
   "source": [
    "<a id=\"Deployment 1\"> </a>\n",
    "### Deployment 1"
   ]
  },
  {
   "cell_type": "markdown",
   "metadata": {},
   "source": [
    "##### **One dimensional ESEEM data informs on the position of taurine in TauD**"
   ]
  },
  {
   "cell_type": "markdown",
   "metadata": {},
   "source": [
    "Using the angles and distances that yielded the best chi^2 a physical picture of the active site of TauD can be constructed"
   ]
  },
  {
   "cell_type": "markdown",
   "metadata": {},
   "source": [
    "![TauD results 1](http://)"
   ]
  },
  {
   "cell_type": "markdown",
   "metadata": {},
   "source": [
    "<a id=\"Deployment 2\"> </a>\n",
    "### Deployment 2"
   ]
  },
  {
   "cell_type": "markdown",
   "metadata": {},
   "source": [
    "##### **Two dimensional HYSCORE data informs on the position of water in TauD**"
   ]
  },
  {
   "cell_type": "markdown",
   "metadata": {},
   "source": [
    "Using the same methodology, the two-dimensional data can be modeled to yield a physical picture for the location of waters in the active site of TauD"
   ]
  },
  {
   "cell_type": "markdown",
   "metadata": {},
   "source": [
    "![TauD results 2](http://)"
   ]
  },
  {
   "cell_type": "code",
   "execution_count": null,
   "metadata": {},
   "outputs": [],
   "source": []
  }
 ],
 "metadata": {
  "kernelspec": {
   "display_name": "Python 3",
   "language": "python",
   "name": "python3"
  },
  "language_info": {
   "codemirror_mode": {
    "name": "ipython",
    "version": 3
   },
   "file_extension": ".py",
   "mimetype": "text/x-python",
   "name": "python",
   "nbconvert_exporter": "python",
   "pygments_lexer": "ipython3",
   "version": "3.8.3"
  }
 },
 "nbformat": 4,
 "nbformat_minor": 4
}
