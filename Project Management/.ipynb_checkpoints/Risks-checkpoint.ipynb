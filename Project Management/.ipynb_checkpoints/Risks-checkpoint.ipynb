{
 "cells": [
  {
   "cell_type": "markdown",
   "metadata": {},
   "source": [
    "# Upgrading and expanding EPR and ODNP Operations"
   ]
  },
  {
   "cell_type": "markdown",
   "metadata": {},
   "source": [
    "## Project Risks"
   ]
  },
  {
   "cell_type": "markdown",
   "metadata": {},
   "source": [
    "#### Manager: Thomas Casey"
   ]
  },
  {
   "cell_type": "markdown",
   "metadata": {},
   "source": [
    "Impact rating is on a scale of 1-10, with 10 being high negative impact on lab function if the subject of the risk were to occur.\n",
    "\n",
    "| **Risk** | **Description** | **Mitigation** | **Contingency** | **Likelihood** | **Impact Rating** |\n",
    "| :- | :- | :- | :- | :- | :- |\n",
    "| 1 | The issue with the TWTA may be beyond the assumed issue| Close contact with ASE engineers | Seek advice on repair, attemopt repair myself | Low | 8 |\n",
    "| 2 | The building capabilities may never allow for temperatures under 75$^{o}$F | arrange recirculators such that heat removal is optimal | use some supplemental funds to purchase chiller | Mid | 4 |\n",
    "| 3 | The EMX bridge may be damaged beyond repair | Strict adherance to maintenance and proper handling | procure funds to replace with benchtop instrument | Mid | 7 |\n",
    "| 4 | The cryogen-free cryostat may require external repair | immediately perform all necessary maintenance tasks | use emergency funds to have repaired by manufacturer | Low | 10 |\n",
    "| 5 | The proposal for supplemental funds may be rejected | carefully write good proposal, close contact with NIH program manager | re-write and re-submit| Low | 9 |\n",
    "| 6 | Any of the older equipment may fail during re-arrangement of the lab | careful execution of renovation | repair or procure funds to replace| Mid | 10 |\n",
    "| 7 | A new magnet and power supply may not be available for under $20K| quick and effective contact and negotiation with seller of found ad | keep searching, operate with what we have | Low | 4 |"
   ]
  },
  {
   "cell_type": "code",
   "execution_count": null,
   "metadata": {},
   "outputs": [],
   "source": []
  }
 ],
 "metadata": {
  "kernelspec": {
   "display_name": "Python 3",
   "language": "python",
   "name": "python3"
  },
  "language_info": {
   "codemirror_mode": {
    "name": "ipython",
    "version": 3
   },
   "file_extension": ".py",
   "mimetype": "text/x-python",
   "name": "python",
   "nbconvert_exporter": "python",
   "pygments_lexer": "ipython3",
   "version": "3.8.3"
  }
 },
 "nbformat": 4,
 "nbformat_minor": 4
}
