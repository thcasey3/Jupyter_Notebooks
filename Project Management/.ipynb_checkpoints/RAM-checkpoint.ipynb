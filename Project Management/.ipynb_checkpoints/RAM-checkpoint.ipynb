{
 "cells": [
  {
   "cell_type": "markdown",
   "metadata": {},
   "source": [
    "# Upgrading and expanding EPR and ODNP Operations"
   ]
  },
  {
   "cell_type": "markdown",
   "metadata": {},
   "source": [
    "## Responsibility Assignment Matrix"
   ]
  },
  {
   "cell_type": "markdown",
   "metadata": {},
   "source": [
    "#### Manager: Thomas Casey"
   ]
  },
  {
   "cell_type": "markdown",
   "metadata": {},
   "source": [
    "Funding provided by lab owner (Sponsor). This is a real project and all tasks actually were performed, in full or in collaboration with others, by me (Project manager).\n",
    "\n",
    "| **WBS ID** | **Sponsor** | **Project Manager** | **Collaborator** |**Facilities Manager** | **Machinist** | \n",
    "| : | : | : | : | : | : |\n",
    "| 1 | A, C, I | R, A, C, I | | | |\n",
    "| 2 | A, C, I | R, A, C, I | | | |\n",
    "| 3 | A, C, I | R, A, C, I | | | |\n",
    "| 4 | A, C, I | R, A, C, I | | R, A, C, I | |\n",
    "| 5 | A, C, I | R, A, C, I | | | |\n",
    "| 6 | A, C, I | R, A, C, I | | I | R, A, C, I |\n",
    "| 7 | A, C, I | R, A, C, I | R, A, C, I |  | |\n",
    "| 8 | A, C, I | R, A, C, I | | | |"
   ]
  },
  {
   "cell_type": "code",
   "execution_count": null,
   "metadata": {},
   "outputs": [],
   "source": []
  }
 ],
 "metadata": {
  "kernelspec": {
   "display_name": "Python 3",
   "language": "python",
   "name": "python3"
  },
  "language_info": {
   "codemirror_mode": {
    "name": "ipython",
    "version": 3
   },
   "file_extension": ".py",
   "mimetype": "text/x-python",
   "name": "python",
   "nbconvert_exporter": "python",
   "pygments_lexer": "ipython3",
   "version": "3.8.3"
  }
 },
 "nbformat": 4,
 "nbformat_minor": 4
}
