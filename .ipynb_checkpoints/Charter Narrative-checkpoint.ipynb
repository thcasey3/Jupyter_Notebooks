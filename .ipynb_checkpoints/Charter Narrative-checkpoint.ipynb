{
 "cells": [
  {
   "cell_type": "markdown",
   "metadata": {},
   "source": [
    "# Upgrading and expanding EPR and ODNP Operations"
   ]
  },
  {
   "cell_type": "markdown",
   "metadata": {},
   "source": [
    "## Narrative Charter Statement"
   ]
  },
  {
   "cell_type": "markdown",
   "metadata": {},
   "source": [
    "#### Manager: Thomas Casey"
   ]
  },
  {
   "cell_type": "markdown",
   "metadata": {},
   "source": [
    "## Table of Contents\n",
    "1. [Purpose](#Purpose)\n",
    "2. [Measurable Objectives](#Measurable-Objectives)\n",
    "3. [High-level Requirements](#High-level-Requirements)\n",
    "4. [Assumptions and Constraints](#Assumptions-and-Constraints)\n",
    "5. [High-level Risks](#High-level-Risks)\n",
    "6. [Summary Milestone Schedule](#Summary-Milestone-Schedule)\n",
    "7. [Summary Budget](#Summary-Budget)"
   ]
  },
  {
   "cell_type": "markdown",
   "metadata": {},
   "source": [
    "<a id=\"Purpose\"> </a>\n",
    "### Purpose"
   ]
  },
  {
   "cell_type": "markdown",
   "metadata": {},
   "source": [
    "   EPR and ODNP operations have been significantly impacted by lapses in instrumentation and software maintenance. In addition, the loss of key personnel has left researchers with partial or inaccurate information about how to operate the instruments and software; which is leading to further maintenance issues. Data quality is suffering, instruments are being damaged, maintenance is becoming more difficult to perform, analysis software is failing without explanation, money is being wasted dealing with avoidable issues, and researchers are losing time and collecting poor quality data.\n",
    "   \n",
    "   This project will include five components: 1) instruments that have been neglected will be repaired or restored, 2) for equipment that needs professionbal repair and are outside of warranty, proposals will be written to gain funds and send the equipment for repair, 3) facilities and infrastructure will be optimized or upgraded as necessary, 4) new software and applications will be developed to more accurately and reliably process data with transparency in the calculation procedures, and 5) documentation will be generated to ensure continued maintenance, correct operation, and easy adoptability of procedures by future researchers."
   ]
  },
  {
   "cell_type": "markdown",
   "metadata": {},
   "source": [
    "<a id=\"Measurable Objectives\"> </a>\n",
    "### Measurable Objectives"
   ]
  },
  {
   "cell_type": "markdown",
   "metadata": {},
   "source": [
    "| **Objective** | **Measurable** |\n",
    "| :- | :- |\n",
    "| The EMX instrument will run reliably without overheating | > 4 hours continuous operation |\n",
    "| The Xband CW spectra will no longer show baseline drift and spikes | | \n",
    "| The EMX bridge AFC will remain locked | > 1 hour continuous lock) |\n",
    "| The Qband cryogen-free cryostat will hold vacuum reliably | consistently less than $10^{-4}$ mbar |\n",
    "| The Qband cryogen-free cryostat will no longer collect condensation | |\n",
    "| The oscillations in the specjet for the Qband instrument that overlap the echo will be alleviated | |\n",
    "| The sample temperature in the Qband resonator will be calibrated | temperature gradient will be quantified |\n",
    "| The 300 Watt Qband TWT amplifier will be repaired | achieve < 20 ns $\\pi$ pulses |\n",
    "| A new magnet and power supply will be found, purchased, and installed for the Qband instrument| |\n",
    "| The Xband pulsed instrument will become fully operational on the original Qband magnet | |\n",
    "| The water recirculators cooling capacity will be imporved | remain under 75$^{o}$F |\n",
    "| All water recirculators will be assigned to separate equipment, rather than sharing or running in series| |\n",
    "| New software will reproduce previously published results | compare to previous publications |\n",
    "| New software will include documentation within the code and detailed error messages | |\n",
    "| Data processing and analysis procedures will be transitioned to principled methodology | |\n",
    "| Improve probe design at CNSI facility | Probe mounts to resonator, tuning box mounts separate from probe |"
   ]
  },
  {
   "cell_type": "markdown",
   "metadata": {},
   "source": [
    "<a id=\"High-level Requirements\"> </a>\n",
    "### High-level Requirements"
   ]
  },
  {
   "cell_type": "markdown",
   "metadata": {},
   "source": [
    "1. Researchers will operate the Qband instrument routinely and without requests for maintenance, and consistently achieve less than 20 ns $pi$ pulses during setup.\n",
    "<br>\n",
    "2. Researchers will operate the EMX instrument routinely and without requests for maintenance. \n",
    "<br>\n",
    "3. Researchers will process and analyze data routinely, with consitency in results, and with clear udnerstanding of the nature of data processing failures. \n",
    "<br>\n",
    "4. The Xband pulsed instrument will be routinely available along with all accessories.\n",
    "<br>\n",
    "6. The lab will be cleaner, with more open space to move."
   ]
  },
  {
   "cell_type": "markdown",
   "metadata": {},
   "source": [
    "<a id=\"Assumptions and Constraints\"> </a>\n",
    "### Assumptions and Constraints"
   ]
  },
  {
   "cell_type": "markdown",
   "metadata": {},
   "source": [
    "1. TWT amplifier repair must be repaired externally, and will cost more than available reserve funds. A proposal must be written.\n",
    "<br>\n",
    "2. A magnet and power supply must be found for under \\\\$20K. \n",
    "<br>\n",
    "3. A new recirculator must be purchased. \n",
    "<br>\n",
    "4. Water recirculator temperature will depend on building capabilities.\n",
    "<br>\n",
    "5. Xband pulsed can only be moved to new magnet if another is found for the Qband. \n",
    "<br>\n",
    "6. Existing processing and analysis software must actually be performing the correct procedure, even if poorly designed. "
   ]
  },
  {
   "cell_type": "markdown",
   "metadata": {},
   "source": [
    "<a id=\"High-level Risks\"> </a>\n",
    "### High-level Risks"
   ]
  },
  {
   "cell_type": "markdown",
   "metadata": {},
   "source": [
    "**Risks**\n",
    "1. The issue with the TWTA may be beyond the assumed issue.\n",
    "2. The building capabilities may never allow for temperatures under 75$^{o}$F. \n",
    "3. The EMX bridge may be damaged beyond repair.\n",
    "4. The cryogen-free cryostat may require external repair. \n",
    "5. The proposal for supplemental funds may be rejected.\n",
    "6. Any of the older equipment may fail during re-arrangement of the lab.\n",
    "7. A new magnet and power supply may not be available for under $20K.\n",
    "<br>\n",
    "**Opportunities**\n",
    "1. One prospective magnet and power supply has been found in an ad.\n",
    "2. A separate grant that has been funded may allow for re-allocation of funds.\n",
    "3. The TWT amplifier repair cost may be negotiable based on recall. "
   ]
  },
  {
   "cell_type": "markdown",
   "metadata": {},
   "source": [
    "<a id=\"Summary Milestone Schedule\"> </a>\n",
    "### Summary Milestone Schedule"
   ]
  },
  {
   "cell_type": "markdown",
   "metadata": {},
   "source": [
    "1. Funds for TWT amplifier repair are procured.\n",
    "2. Magnet and power supply are found, purchased, arrive safely, and install without major issue.\n",
    "3. EMX instrument yielding spectra without baseline drift and spikes.\n",
    "4. Xband pulsed instrument yields expected standard data on magnet previously used for Qband.\n",
    "5. Water recirculators arranged to cool separate instruments and routinely run under 75$^{o}$F.\n",
    "5. Software reproducing previously published results."
   ]
  },
  {
   "cell_type": "markdown",
   "metadata": {},
   "source": [
    "<a id=\"Summary Budget\"> </a>\n",
    "### Summary Budget"
   ]
  },
  {
   "cell_type": "markdown",
   "metadata": {},
   "source": [
    "**Total budget:** worst case \\\\$30K, best case \\\\$180K \n",
    "1. Up to \\\\$20K are available for magnet and power supply purchase.\n",
    "2. Potential for \\\\$100K from supplemental funds proposal.\n",
    "3. Up to \\\\$50K potential auxiliary funds in emergencies.\n",
    "4. Facilities upgrades up to \\\\$10K are covered by existing supplemental funds. "
   ]
  },
  {
   "cell_type": "code",
   "execution_count": null,
   "metadata": {},
   "outputs": [],
   "source": []
  }
 ],
 "metadata": {
  "kernelspec": {
   "display_name": "Python 3",
   "language": "python",
   "name": "python3"
  },
  "language_info": {
   "codemirror_mode": {
    "name": "ipython",
    "version": 3
   },
   "file_extension": ".py",
   "mimetype": "text/x-python",
   "name": "python",
   "nbconvert_exporter": "python",
   "pygments_lexer": "ipython3",
   "version": "3.8.3"
  }
 },
 "nbformat": 4,
 "nbformat_minor": 4
}
