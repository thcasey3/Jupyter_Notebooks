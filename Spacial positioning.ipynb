{
 "cells": [
  {
   "cell_type": "markdown",
   "metadata": {},
   "source": [
    "# Determining the position and orientation of a small molecule in an enzyme"
   ]
  },
  {
   "cell_type": "markdown",
   "metadata": {},
   "source": [
    "#### Author: **Thomas Casey**\n",
    "##### Location: Michigan State University\n",
    "Work published in [J. Phys. Chem. B](https://doi.org/10.1021/jp404743d) and [Applied Mag. Res.](https://doi.org/10.1007/s00723-020-01288-w)"
   ]
  },
  {
   "cell_type": "markdown",
   "metadata": {},
   "source": [
    "## Table of Contents\n",
    "1. [Business Understanding](#Business-Understanding)\n",
    "2. [Data Understanding](#Data-Understanding)\n",
    "3. [Data Preparation](#Data-Preparations)\n",
    "4. [Modeling](#Method-Description)\n",
    "5. [Evaluation](#Evaluation)\n",
    "6. [Deployment 1](#Deployment-1)\n",
    "7. [Deployment 2](#Deployment-2)"
   ]
  },
  {
   "cell_type": "markdown",
   "metadata": {},
   "source": [
    "<a id=\"Business Understanding\"> </a>\n",
    "## Business Understanding"
   ]
  },
  {
   "cell_type": "markdown",
   "metadata": {},
   "source": [
    "What are the precise spacial positions of small molecules taurine and water in relation to the center of the enzyme TauD just prior to the enzyme catalyzing the breakdown of taurine?\n"
   ]
  },
  {
   "cell_type": "markdown",
   "metadata": {},
   "source": [
    "<a id=\"Data Understanding\"> </a>\n",
    "## Data Understanding"
   ]
  },
  {
   "cell_type": "markdown",
   "metadata": {},
   "source": [
    "The available data are derived from a spectroscopy technique known as [Electron Paramagnetic Resonance (EPR)](https://en.wikipedia.org/wiki/Electron_paramagnetic_resonance), in particular [Electron Spin Echo Envelope Modulation (ESEEM) and HYperfine Sublevel CORElation (HYSCORE)](https://doi.org/10.1002/0470862106.ia337). In brief, ESEEM yields one-dimension arrays of signal amplitudes collected as a function of time (*changing delay between two microwave pulses*), HYSCORE yields two-dimensional data where each dimension is also time (*each dimension is one of the two changing delays between a set of three microwave pulses*). The data are in binary files, proprietary Bruker format. Data are sectioned in pairs of files, one contains the raw data and the other contains descriptive text. "
   ]
  },
  {
   "cell_type": "markdown",
   "metadata": {},
   "source": [
    "<a id=\"Data Preparation\"> </a>\n",
    "## Data Preparation"
   ]
  },
  {
   "cell_type": "markdown",
   "metadata": {},
   "source": [
    "Data are collected using commericially available [spectrometers](https://www.bruker.com/en/products-and-solutions/mr/epr-instruments.html) controlled using proprietary software. \n",
    "<br>\n",
    "<br>\n",
    "The magnetic resonance community typically uses [MATLAB](http://www.mathworks.com/matlab) or python to handle EPR data. The tool used for this study will be the most widely used tools for EPR data import and modeling, [EasySpin](http://www.easyspin.org) operating in MATLAB.\n",
    "<br>\n",
    "<br>\n",
    "EPR data are modeled using a well established theoretical framework, extraction of information from the data is achieved by using optimization algorithms to model data using quantum mechanical expressions. For this study I used built in [EasySpin (*docs*)](https://easyspin.org/easyspin/documentation/) functions to supply the quantum mechanical expression.\n",
    "\n",
    "For this notebook I will translate the MATLAB code to python. The following code will load and prepare the data for fitting using a python package for which I am a principle contributor, DNPLab. This package handles proprietary EPR spectrometer data formats."
   ]
  },
  {
   "cell_type": "markdown",
   "metadata": {},
   "source": [
    "**Retrieve and sort data**"
   ]
  },
  {
   "cell_type": "markdown",
   "metadata": {},
   "source": [
    "![MATLAB example of data retrieval and sorting](http://)"
   ]
  },
  {
   "cell_type": "markdown",
   "metadata": {},
   "source": [
    "**Process data**"
   ]
  },
  {
   "cell_type": "markdown",
   "metadata": {},
   "source": [
    "![MATLAB example of data processing](http://)"
   ]
  },
  {
   "cell_type": "markdown",
   "metadata": {},
   "source": [
    "<a id=\"Modeling\"> </a>\n",
    "## Modeling"
   ]
  },
  {
   "cell_type": "markdown",
   "metadata": {},
   "source": [
    "**One dimensional model**"
   ]
  },
  {
   "cell_type": "markdown",
   "metadata": {},
   "source": [
    "![](http://localhost:8892/lab/tree/mypy/Jupyter_Notebooks/resources/eseem.png)"
   ]
  },
  {
   "cell_type": "markdown",
   "metadata": {},
   "source": [
    "**Two dimensional model**"
   ]
  },
  {
   "cell_type": "markdown",
   "metadata": {},
   "source": [
    "![MATLAB example of pre-process](http://)"
   ]
  },
  {
   "cell_type": "markdown",
   "metadata": {},
   "source": [
    "<a id=\"Evaluation\"> </a>\n",
    "## Evaluation"
   ]
  },
  {
   "cell_type": "markdown",
   "metadata": {},
   "source": [
    "<a id=\"Deployment 1\"> </a>\n",
    "### Deployment 1"
   ]
  },
  {
   "cell_type": "markdown",
   "metadata": {},
   "source": [
    "##### **One dimensional ESEEM data informs on the position of taurine in TauD**"
   ]
  },
  {
   "cell_type": "markdown",
   "metadata": {},
   "source": [
    "Using the angles and distances that yielded the best chi^2 a physical picture of the active site of TauD can be constructed"
   ]
  },
  {
   "cell_type": "markdown",
   "metadata": {},
   "source": [
    "![TauD results 1](http://)"
   ]
  },
  {
   "cell_type": "markdown",
   "metadata": {},
   "source": [
    "<a id=\"Deployment 2\"> </a>\n",
    "### Deployment 2"
   ]
  },
  {
   "cell_type": "markdown",
   "metadata": {},
   "source": [
    "##### **Two dimensional HYSCORE data informs on the position of water in TauD**"
   ]
  },
  {
   "cell_type": "markdown",
   "metadata": {},
   "source": [
    "Using the same methodology, the two-dimensional data can be modeled to yield a physical picture for the location of waters in the active site of TauD"
   ]
  },
  {
   "cell_type": "markdown",
   "metadata": {},
   "source": [
    "![TauD results 2](http://)"
   ]
  },
  {
   "cell_type": "code",
   "execution_count": null,
   "metadata": {},
   "outputs": [],
   "source": []
  }
 ],
 "metadata": {
  "kernelspec": {
   "display_name": "Python 3",
   "language": "python",
   "name": "python3"
  },
  "language_info": {
   "codemirror_mode": {
    "name": "ipython",
    "version": 3
   },
   "file_extension": ".py",
   "mimetype": "text/x-python",
   "name": "python",
   "nbconvert_exporter": "python",
   "pygments_lexer": "ipython3",
   "version": "3.8.3"
  }
 },
 "nbformat": 4,
 "nbformat_minor": 4
}
