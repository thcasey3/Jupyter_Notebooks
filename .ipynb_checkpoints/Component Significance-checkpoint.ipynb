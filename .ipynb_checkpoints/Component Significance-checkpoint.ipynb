{
 "cells": [
  {
   "cell_type": "markdown",
   "metadata": {},
   "source": [
    "## Determining the statistical significance of components of an ensemble"
   ]
  },
  {
   "cell_type": "markdown",
   "metadata": {},
   "source": [
    "### Author: **Thomas Casey**\n",
    "#### Location: University of Florida\n",
    "Work published in [Methods in Enzymology](http://dx.doi.org/10.1016/bs.mie.2015.07.019)\n",
    "<br>\n",
    "Also available as MATLAB Application at [File Exchange](https://www.mathworks.com/matlabcentral/fileexchange/52001-deerconstruct)"
   ]
  },
  {
   "cell_type": "markdown",
   "metadata": {},
   "source": [
    "## Table of Contents\n",
    "1. [Business Understanding](#Business-Understanding)\n",
    "2. [Data Understanding](#Data-Understanding)\n",
    "3. [Data Preparation](#Data-Preparations)\n",
    "4. [Modeling](#Method-Description)\n",
    "5. [Evaluation](#Evaluation)\n",
    "6. [Deployment](#Deployment)"
   ]
  },
  {
   "cell_type": "markdown",
   "metadata": {},
   "source": [
    "<a id=\"Business Understanding\"> </a>\n",
    "### Business Understanding"
   ]
  },
  {
   "cell_type": "markdown",
   "metadata": {},
   "source": [
    "Can we disqualify a component of an ensemble as an artifact of processing and modeling experimental data?\n"
   ]
  },
  {
   "cell_type": "markdown",
   "metadata": {},
   "source": [
    "<a id=\"Data Understanding\"> </a>\n",
    "### Data Understanding"
   ]
  },
  {
   "cell_type": "markdown",
   "metadata": {},
   "source": [
    "The data are one-dimensional arrays that represent the transformation of time domain data to distance distributions. In brief, the values of the individual components of the arrays represent the relative contribution of a given distance between two magnetic dipoles in an enzyme. The technique belongs to a family of similar techniques call pulsed dipolar Electron Paramagnetic Resonance (EPR) and is called Double Electron-Electron Resonance (DEER). "
   ]
  },
  {
   "cell_type": "markdown",
   "metadata": {},
   "source": [
    "<a id=\"Data Preparation\"> </a>\n",
    "### Data Preparation"
   ]
  },
  {
   "cell_type": "markdown",
   "metadata": {},
   "source": [
    "insert"
   ]
  },
  {
   "cell_type": "markdown",
   "metadata": {},
   "source": [
    "<a id=\"Modeling\"> </a>\n",
    "### Modeling"
   ]
  },
  {
   "cell_type": "code",
   "execution_count": null,
   "metadata": {},
   "outputs": [],
   "source": [
    "draw_gaussian <- function(mu, sig, eta, dist) {\n",
    "  \n",
    "  population <- (sqrt((2/pi))/(sig/(2*log(2))))*\n",
    "    exp(-2*(((dist-mu)/(sig/(2*log(2))))^2));\n",
    "  population <- (population/max(population))*eta;\n",
    "}\n",
    "\n",
    "make_profile <- function(distances, stats_df) {\n",
    " \n",
    "  pr <- matrix(0, nrow=length(distances), ncol=length(stats_df))\n",
    "  for (i in length(stats_df)){\n",
    "    pr[,i] <- draw_gaussian(stats_df$mu[i], \n",
    "                            stats_df$sig[i], \n",
    "                            stats_df$eta[i], \n",
    "                            distances)\n",
    "  }\n",
    " pr  \n",
    "}\n",
    "\n",
    "make_suppressions_matrix <- function(num_populations) {\n",
    "  x <- list(seq(0,1))\n",
    "  y <- expand.grid(rep(x,num_populations))\n",
    "  sup_matrix <- y[3:length(y[,1])-1,]\n",
    "}\n",
    "\n",
    "\n",
    "make_kernel <- function(time,distance) {\n",
    "  \n",
    "  theta <- as.vector(seq(0,pi/2, length.out=length(time)))\n",
    "  cos_2_theta <- cos(theta)^2\n",
    "  sin_theta <- sin(theta)\n",
    "  threecos <- (cos_2_theta*3) - 1\n",
    "  const_r <- (1/(distance^3))*326.98\n",
    "  \n",
    "  threecos_const_r <- threecos %*% t(const_r)\n",
    "  \n",
    "  Kmatrix=matrix(0, nrow =length(sin_theta), ncol=length(time))\n",
    "  j=0\n",
    "  for (i in time) {\n",
    "    j=j+1\n",
    "    Kmatrix[j,] <- t(sin_theta) %*% cos(i * threecos_const_r)\n",
    "  }\n",
    "  Kmatrix\n",
    "}\n",
    "\n",
    "data_distr <- read.table(\"./demo_distr.dat\")\n",
    "data_time <- read.table(\"./demo_fit.dat\")\n",
    "\n",
    "distance <- as.vector(t(data_distr[,1]))\n",
    "pr <- as.vector(data_distr[,2] / max(data_distr[,2]))\n",
    "time <- as.vector(t(data_time[,1]))\n",
    "tkr <- as.vector(data_time[,3])\n",
    "Vt <- as.vector(data_time[,2])\n",
    "\n",
    "Kmatrix <- make_kernel(time,distance)\n",
    "\n",
    "mdl <- Kmatrix %*% pr\n",
    "mdl <- as.vector((1 / max(mdl)) * mdl)\n",
    "\n",
    "p <- as.vector(seq(0,1,length.out=1000))\n",
    "ss <- as.vector(seq(0,0, length.out=1000))\n",
    "for (i in 1:length(p)) {\n",
    "  temp_vt <- as.vector(((tkr-1)/p[i]+1) - mdl);\n",
    "  ss[i]<-sum(temp_vt*temp_vt);\n",
    "}\n",
    "i_opt <- which(ss == min(ss, na.rm=TRUE))\n",
    "sclmod <- p[i_opt]\n",
    "\n",
    "tkrVt<-(tkr-1)/sclmod+1;\n",
    "Vt<-(Vt-1)/sclmod+1;\n",
    "\n",
    "plot(time,Vt, type=\"l\", col=\"red\")\n",
    "lines(time,tkrVt, col=\"green\")\n",
    "lines(time, mdl, col=\"blue\")\n",
    "\n",
    "df <- data.frame(mu=c(1.5,3,6),sig=c(1,1,1), eta=c(.5,.7,.1))\n",
    "\n",
    "test_pr_matrix <- make_profile(distance, df)\n",
    "\n",
    "sup_mat <- make_suppressions_matrix(length(df))\n",
    "\n",
    "test_prs <- matrix(0, nrow=length(distance), ncol=length(sup_mat[,1]))\n",
    "for (j in length(sup_mat[,1])) {\n",
    "  test_prs[,j] <- sum(test_pr_matrix %*% t(sup_mat[j,]))\n",
    "}\n"
   ]
  },
  {
   "cell_type": "markdown",
   "metadata": {},
   "source": [
    "<a id=\"Evaluation\"> </a>\n",
    "### Evaluation"
   ]
  },
  {
   "cell_type": "markdown",
   "metadata": {},
   "source": [
    "insert"
   ]
  },
  {
   "cell_type": "markdown",
   "metadata": {},
   "source": [
    "<a id=\"Deployment\"> </a>\n",
    "### Deployment"
   ]
  },
  {
   "cell_type": "markdown",
   "metadata": {},
   "source": [
    "insert"
   ]
  }
 ],
 "metadata": {
  "kernelspec": {
   "display_name": "R",
   "language": "R",
   "name": "ir"
  },
  "language_info": {
   "codemirror_mode": {
    "name": "ipython",
    "version": 3
   },
   "file_extension": ".py",
   "mimetype": "text/x-python",
   "name": "python",
   "nbconvert_exporter": "python",
   "pygments_lexer": "ipython3",
   "version": "3.8.3"
  }
 },
 "nbformat": 4,
 "nbformat_minor": 4
}
