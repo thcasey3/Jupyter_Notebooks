{
 "cells": [
  {
   "cell_type": "markdown",
   "metadata": {},
   "source": [
    "# Determining the position and orientation of a small molecule in an enzyme"
   ]
  },
  {
   "cell_type": "markdown",
   "metadata": {},
   "source": [
    "#### Author: **Thomas Casey**\n",
    "##### Location: Michigan State University\n",
    "Work published in [J. Phys. Chem. B](https://doi.org/10.1021/jp404743d) and [Applied Mag. Res.](https://doi.org/10.1007/s00723-020-01288-w)"
   ]
  },
  {
   "cell_type": "markdown",
   "metadata": {},
   "source": [
    "### **Table of Contents**\n",
    "1. [Statement of Purpose](#Statement-of-Purpose)\n",
    "2. [Nature of the Data](#Nature-of-the-Data)\n",
    "3. [Available Tools](#Available-Tools)\n",
    "4. [Method Description](#Method-Description)\n",
    "5. [Application 1](#Application-1)\n",
    "6. [Application 2](#Application-2)\n",
    "7. [Conclusions](#Conclusions)"
   ]
  },
  {
   "cell_type": "markdown",
   "metadata": {},
   "source": [
    "<a id=\"Statement of Purpose\"> </a>\n",
    "### Statement of Purpose"
   ]
  },
  {
   "cell_type": "markdown",
   "metadata": {},
   "source": [
    "What are the precise spacial positions of small molecules taurine and water in relation to the center of the enzyme TauD just prior to the enzyme catalyzing the breakdown of taurine?\n"
   ]
  },
  {
   "cell_type": "markdown",
   "metadata": {},
   "source": [
    "<a id=\"Nature of the Data\"> </a>\n",
    "### Nature of the Data"
   ]
  },
  {
   "cell_type": "markdown",
   "metadata": {},
   "source": [
    "The available data are derived from a spectroscopy technique known as [Electron Paramagnetic Resonance (EPR)](https://en.wikipedia.org/wiki/Electron_paramagnetic_resonance), in particular [Electron Spin Echo Envelope Modulation (ESEEM) and HYperfine Sublevel CORElation (HYSCORE)](https://doi.org/10.1002/0470862106.ia337). In brief, ESEEM yields one-dimension arrays of signal amplitudes collected as a function of time (*changing delay between two microwave pulses*), HYSCORE yields two-dimensional data where each dimension is also time (*each dimension is one of the two changing delays between a set of three microwave pulses*). The data are in binary files, proprietary Bruker format. Data are sectioned in pairs of files, one contains the raw data and the other contains descriptive text. "
   ]
  },
  {
   "cell_type": "markdown",
   "metadata": {},
   "source": [
    "<a id=\"Available Tools\"> </a>\n",
    "### Available Tools"
   ]
  },
  {
   "cell_type": "markdown",
   "metadata": {},
   "source": [
    "Data are collected using commericially available [spectrometers](https://www.bruker.com/en/products-and-solutions/mr/epr-instruments.html) controlled using proprietary software. \n",
    "<br>\n",
    "<br>\n",
    "The magnetic resonance community typically uses [MATLAB](http://www.mathworks.com/matlab) or python to handle EPR data. The tool used for this study will be the most widely used tools for EPR data import and modeling, [EasySpin](http://www.easyspin.org) operating in MATLAB.\n",
    "<br>\n",
    "<br>\n",
    "EPR data are modeled using a well established theoretical framework, extraction of information from the data is achieved by using optimization algorithms to model data using quantum mechanical expressions. For this study I used built in [EasySpin (*docs*)](https://easyspin.org/easyspin/documentation/) functions to supply the quantum mechanical expression."
   ]
  },
  {
   "cell_type": "markdown",
   "metadata": {},
   "source": [
    "<a id=\"Method Description\"> </a>\n",
    "### Method Description"
   ]
  },
  {
   "cell_type": "markdown",
   "metadata": {},
   "source": [
    "**Retrieve and sort data**"
   ]
  },
  {
   "cell_type": "markdown",
   "metadata": {},
   "source": [
    "![MATLAB example of data retrieval and sorting](http://)"
   ]
  },
  {
   "cell_type": "markdown",
   "metadata": {},
   "source": [
    "**Pre-process**"
   ]
  },
  {
   "cell_type": "markdown",
   "metadata": {},
   "source": [
    "![MATLAB example of pre-process](http://)"
   ]
  },
  {
   "cell_type": "markdown",
   "metadata": {},
   "source": [
    "**Define model function**"
   ]
  },
  {
   "cell_type": "markdown",
   "metadata": {},
   "source": [
    "![MATLAB example of model function](http://)"
   ]
  },
  {
   "cell_type": "markdown",
   "metadata": {},
   "source": [
    "**Data modeling - Application 1**"
   ]
  },
  {
   "cell_type": "markdown",
   "metadata": {},
   "source": [
    "![MATLAB example of modeling](http://)"
   ]
  },
  {
   "cell_type": "markdown",
   "metadata": {},
   "source": [
    "**Data modeling - Application 2**"
   ]
  },
  {
   "cell_type": "markdown",
   "metadata": {},
   "source": [
    "![MATLAB example of modeling](http://)"
   ]
  },
  {
   "cell_type": "markdown",
   "metadata": {},
   "source": [
    "**Results Interpretation**"
   ]
  },
  {
   "cell_type": "markdown",
   "metadata": {},
   "source": [
    "![MATLAB example of results interpreting](http://)"
   ]
  },
  {
   "cell_type": "markdown",
   "metadata": {},
   "source": [
    "<a id=\"Application 1\"> </a>\n",
    "### Application 1"
   ]
  },
  {
   "cell_type": "markdown",
   "metadata": {},
   "source": [
    "##### **ESEEM data informs on the position of taurine in TauD**"
   ]
  },
  {
   "cell_type": "markdown",
   "metadata": {},
   "source": [
    "Using the angles and distances that yielded the best chi^2 a physical picture of the active site of TauD can be constructed"
   ]
  },
  {
   "cell_type": "markdown",
   "metadata": {},
   "source": [
    "![TauD results 1](http://)"
   ]
  },
  {
   "cell_type": "markdown",
   "metadata": {},
   "source": [
    "<a id=\"Application 2\"> </a>\n",
    "### Application 2"
   ]
  },
  {
   "cell_type": "markdown",
   "metadata": {},
   "source": [
    "##### **HYSCORE data informs on the position of water in TauD**"
   ]
  },
  {
   "cell_type": "markdown",
   "metadata": {},
   "source": [
    "Using the same methodology, the two-dimensional data can be modeled to yield a physical picture for the location of waters in the active site of TauD"
   ]
  },
  {
   "cell_type": "markdown",
   "metadata": {},
   "source": [
    "![TauD results 2](http://)"
   ]
  },
  {
   "cell_type": "markdown",
   "metadata": {},
   "source": [
    "<a id=\"Conclusions\"> </a>\n",
    "### Conclusions"
   ]
  },
  {
   "cell_type": "markdown",
   "metadata": {},
   "source": [
    "We set out to use spectroscopic data to measure the locations of small molecules in the center of an enzyme. By first udnerstanding the data then processing, modeling, and interpreting the data we were able to build a picture of the active site that included the spacial positions of the small molecules taurine and water."
   ]
  },
  {
   "cell_type": "code",
   "execution_count": null,
   "metadata": {},
   "outputs": [],
   "source": []
  }
 ],
 "metadata": {
  "kernelspec": {
   "display_name": "Python 3",
   "language": "python",
   "name": "python3"
  },
  "language_info": {
   "codemirror_mode": {
    "name": "ipython",
    "version": 3
   },
   "file_extension": ".py",
   "mimetype": "text/x-python",
   "name": "python",
   "nbconvert_exporter": "python",
   "pygments_lexer": "ipython3",
   "version": "3.7.7"
  }
 },
 "nbformat": 4,
 "nbformat_minor": 4
}
