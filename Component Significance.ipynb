{
 "cells": [
  {
   "cell_type": "markdown",
   "metadata": {},
   "source": [
    "## Determining the statistical significance of components of an ensemble"
   ]
  },
  {
   "cell_type": "markdown",
   "metadata": {},
   "source": [
    "#### Author: **Thomas Casey**\n",
    "##### Location: University of Florida\n",
    "Work published in [Methods in Enzymology](http://dx.doi.org/10.1016/bs.mie.2015.07.019)\n",
    "<br>\n",
    "Also available as MATLAB Application at [File Exchange](https://www.mathworks.com/matlabcentral/fileexchange/52001-deerconstruct)"
   ]
  },
  {
   "cell_type": "markdown",
   "metadata": {},
   "source": [
    "### **Table of Contents**\n",
    "1. [Statement of Purpose](#Statement-of-Purpose)\n",
    "2. [Nature of the Data](#Nature-of-the-Data)\n",
    "3. [Available Tools](#Available-Tools)\n",
    "4. [Method Description](#Method-Description)\n",
    "5. [Example Application](#Example-Application)\n",
    "6. [Conclusions](#Conclusions)"
   ]
  },
  {
   "cell_type": "markdown",
   "metadata": {},
   "source": [
    "<a id=\"Statement of Purpose\"> </a>\n",
    "### Statement of Purpose"
   ]
  },
  {
   "cell_type": "markdown",
   "metadata": {},
   "source": [
    "Can we disqualify a component of an ensemble as an artifact of processing and modeling experimental data?\n"
   ]
  },
  {
   "cell_type": "markdown",
   "metadata": {},
   "source": [
    "<a id=\"Nature of the Data\"> </a>\n",
    "### Nature of the Data"
   ]
  },
  {
   "cell_type": "markdown",
   "metadata": {},
   "source": [
    "The data are one-dimensional arrays that represent the transformation of time domain data to distance distributions. In brief, the values of the individual components of the arrays represent the relative contribution of a given distance between two magnetic dipoles in an enzyme. The technique belongs to a family of similar techniques call pulsed dipolar Electron Paramagnetic Resonance (EPR) and is called Double Electron-Electron Resonance (DEER). "
   ]
  },
  {
   "cell_type": "markdown",
   "metadata": {},
   "source": [
    "<a id=\"Available Tools\"> </a>\n",
    "### Available Tools"
   ]
  },
  {
   "cell_type": "markdown",
   "metadata": {},
   "source": [
    "insert"
   ]
  },
  {
   "cell_type": "markdown",
   "metadata": {},
   "source": [
    "<a id=\"Method Description\"> </a>\n",
    "### Method Description"
   ]
  },
  {
   "cell_type": "markdown",
   "metadata": {},
   "source": [
    "insert"
   ]
  },
  {
   "cell_type": "markdown",
   "metadata": {},
   "source": [
    "<a id=\"Example Application\"> </a>\n",
    "### Example Application"
   ]
  },
  {
   "cell_type": "markdown",
   "metadata": {},
   "source": [
    "insert"
   ]
  },
  {
   "cell_type": "markdown",
   "metadata": {},
   "source": [
    "<a id=\"Conclusions\"> </a>\n",
    "### Conclusions"
   ]
  },
  {
   "cell_type": "markdown",
   "metadata": {},
   "source": [
    "insert"
   ]
  }
 ],
 "metadata": {
  "kernelspec": {
   "display_name": "R",
   "language": "R",
   "name": "ir"
  },
  "language_info": {
   "name": ""
  }
 },
 "nbformat": 4,
 "nbformat_minor": 4
}
