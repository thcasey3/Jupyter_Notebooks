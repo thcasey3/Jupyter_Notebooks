{
 "cells": [
  {
   "cell_type": "markdown",
   "metadata": {},
   "source": [
    "# Upgrading and expanding EPR and ODNP Operations"
   ]
  },
  {
   "cell_type": "markdown",
   "metadata": {},
   "source": [
    "## Descriptions and Directions, Work Breakdown Structure (WBS)"
   ]
  },
  {
   "cell_type": "markdown",
   "metadata": {},
   "source": [
    "#### Manager: Thomas Casey"
   ]
  },
  {
   "cell_type": "markdown",
   "metadata": {},
   "source": [
    "**Lab repairs and upgrades**\n",
    "<br>\n",
    "$\\;$ 1. EMX Instrument Repairs.\n",
    "<br>\n",
    "$\\;\\;\\;$ 1.1 Attempt adjustment of AFC gain and time constant.\n",
    "<br>\n",
    "$\\;\\;\\;$ 1.2 Clean and recalibrate resonator.\n",
    "<br>\n",
    "$\\;\\;\\;$ 1.3 Obtain standard data with standard sample.\n",
    "<br>\n",
    "$\\;$ 2. Qband Instrument Repairs.\n",
    "<br>\n",
    "$\\;\\;\\;$ 2.1 Collect diagnostic data, nutation curve at full amplifier power.\n",
    "<br>\n",
    "$\\;\\;\\;$ 2.2 Obtain quote for repair.\n",
    "<br>\n",
    "$\\;\\;\\;$ 2.3 Write supplemental proposal.\n",
    "<br>\n",
    "$\\;\\;\\;$ 2.4 Prepare and ship TWT amplifier.\n",
    "<br>\n",
    "$\\;\\;\\;$ 2.5 Replace Indium seal in cryostat window.\n",
    "<br>\n",
    "$\\;\\;\\;$ 2.6 Diagnose and repair vacuum pump\n",
    "<br>\n",
    "$\\;$ 3. Find and purchase magnet and power supply.\n",
    "<br>\n",
    "$\\;\\;\\;$ 3.1 Reach out to ad contact for details regarding cost and condition of advertise equipment.\n",
    "<br>\n",
    "$\\;\\;\\;$ 3.2 Obtain quote for shipping.\n",
    "<br>\n",
    "$\\;\\;\\;$ 3.3 Confirm budget with purchasing office.\n",
    "<br>\n",
    "$\\;\\;\\;$ 3.4 Schedule shipping.\n",
    "<br>\n",
    "$\\;$ 4. Renovate and prepare lab for new equipment.\n",
    "<br>\n",
    "$\\;\\;\\;$ 4.1 Identify needed and unnecessary lab equipment and accessories.\n",
    "<br>\n",
    "$\\;\\;\\;$ 4.2 Purchase assortment of water hosing and fittings.\n",
    "<br>\n",
    "$\\;\\;\\;$ 4.3 Obtain quote for new water recirculator.\n",
    "<br>\n",
    "$\\;\\;\\;$ 4.4 Coordinate with facilities management to decrease the building water supply temperature to  < 65$^{o}$F.\n",
    "<br>\n",
    "$\\;\\;\\;$ 4.5 Arrange water recirculators to accomodate new instrumentation.\n",
    "<br>\n",
    "$\\;\\;\\;$ 4.6 Install new power outlets to minimize cable crossover with walking areas.\n",
    "<br>\n",
    "$\\;$ 5. Move Xband pulsed electronics to Qband magnet.\n",
    "<br>\n",
    "$\\;\\;\\;$ 5.1 Disassemble and move Qband pulsed electronics.\n",
    "<br>\n",
    "$\\;\\;\\;$ 5.2 Disassemble Xband pulsed instrument and sell or dispose of magnet and power supply.\n",
    "<br>\n",
    "$\\;\\;\\;$ 5.3 Assemble and test Xband pulsed electronics on Qband magnet.\n",
    "<br>\n",
    "$\\;$ 6. Move cryogen-free cryostat to new 10\" magnet.\n",
    "<br>\n",
    "$\\;\\;\\;$ 6.1 Obtain or draft machine drawing for needed mounts.\n",
    "<br>\n",
    "$\\;\\;\\;$ 6.2 Submit job to machine shop.\n",
    "<br>\n",
    "$\\;\\;\\;$ 6.3 Assemble mounts in new magnet and install cryostat.\n",
    "<br>\n",
    "$\\;$ 7. Design and write new software for data processing and analysis.\n",
    "<br>\n",
    "$\\;\\;\\;$ 7.1 Decipher and document old software.\n",
    "<br>\n",
    "$\\;\\;\\;$ 7.2 Initiate collaboration to develop publicly available software package.\n",
    "<br>\n",
    "$\\;\\;\\;$ 7.3 Collect feedback and define specific lab requirements for software.\n",
    "<br>\n",
    "$\\;\\;\\;$ 7.4 Write and test functions.\n",
    "<br>\n",
    "$\\;\\;\\;$ 7.5 Obtain data from previous studies and compare results.\n",
    "<br>\n",
    "$\\;$ 8. Upgrade probe at CNSI.\n",
    "<br>\n",
    "$\\;\\;\\;$ 8.1 Design and fabricate new probe support and tuning box.\n",
    "<br>\n",
    "$\\;\\;\\;$ 8.2 Test new design.\n",
    "<br>\n",
    "$\\;\\;\\;$ 8.3 Improve documentation to reflect new design."
   ]
  },
  {
   "cell_type": "code",
   "execution_count": null,
   "metadata": {},
   "outputs": [],
   "source": []
  }
 ],
 "metadata": {
  "kernelspec": {
   "display_name": "Python 3",
   "language": "python",
   "name": "python3"
  },
  "language_info": {
   "codemirror_mode": {
    "name": "ipython",
    "version": 3
   },
   "file_extension": ".py",
   "mimetype": "text/x-python",
   "name": "python",
   "nbconvert_exporter": "python",
   "pygments_lexer": "ipython3",
   "version": "3.8.3"
  }
 },
 "nbformat": 4,
 "nbformat_minor": 4
}
